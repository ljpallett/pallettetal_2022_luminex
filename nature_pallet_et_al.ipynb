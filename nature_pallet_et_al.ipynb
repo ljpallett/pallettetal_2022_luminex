{
 "cells": [
  {
   "cell_type": "code",
   "execution_count": null,
   "metadata": {},
   "outputs": [],
   "source": [
    "import pandas\n",
    "import matplotlib\n",
    "import matplotlib.pyplot\n",
    "import mpl_toolkits.axes_grid1\n",
    "import seaborn\n",
    "\n",
    "import luminex\n",
    "import luminex.functions"
   ]
  },
  {
   "cell_type": "code",
   "execution_count": null,
   "metadata": {},
   "outputs": [],
   "source": [
    "version = luminex.__version__\n",
    "version"
   ]
  },
  {
   "cell_type": "code",
   "execution_count": null,
   "metadata": {},
   "outputs": [],
   "source": [
    "def create_fig_ax(width, height, units='cm'):\n",
    "    \n",
    "    if units=='cm':\n",
    "        width = width*0.393701\n",
    "        height = height*0.393701\n",
    "    \n",
    "    fig = matplotlib.pyplot.figure(figsize=(width+3, height+3))\n",
    "\n",
    "    rect = (0,0,1,1)\n",
    "    \n",
    "    horizontal = [\n",
    "        mpl_toolkits.axes_grid1.Size.Fixed(1),\n",
    "        mpl_toolkits.axes_grid1.Size.Fixed(width),\n",
    "        mpl_toolkits.axes_grid1.Size.Fixed(2),\n",
    "    ]\n",
    "    vertical = [\n",
    "        mpl_toolkits.axes_grid1.Size.Fixed(1),\n",
    "        mpl_toolkits.axes_grid1.Size.Fixed(height),\n",
    "        mpl_toolkits.axes_grid1.Size.Fixed(2)\n",
    "    ]\n",
    "    divider = mpl_toolkits.axes_grid1.Divider(fig, rect, horizontal, vertical, aspect=False)\n",
    "    \n",
    "    ax = fig.add_axes(rect)\n",
    "    ax.set_axes_locator(divider.new_locator(nx=1, ny=1))\n",
    "\n",
    "    return fig, ax"
   ]
  },
  {
   "cell_type": "code",
   "execution_count": null,
   "metadata": {},
   "outputs": [],
   "source": [
    "pandas.set_option('display.max_columns', 500)\n",
    "\n",
    "colourmap = {\n",
    "    'unstimCD14-':'#aec7e8',\n",
    "    'unstimCD14+':'#1f77b4',\n",
    "    'cd3CD14-':'#ffbb78',\n",
    "    'cd3CD14+':'#ff7f0e',\n",
    "    'bugsCD14-':'#98df8a',\n",
    "    'bugsCD14+':'#2ca02c'\n",
    "}\n",
    "\n",
    "matplotlib.rcParams['ps.useafm'] = True\n",
    "matplotlib.rcParams['ps.fonttype'] = 42"
   ]
  },
  {
   "cell_type": "code",
   "execution_count": null,
   "metadata": {},
   "outputs": [],
   "source": [
    "rawdata = pandas.read_excel(\n",
    "    '/Users/laurapallett/data/laura_pallett/luminex/03/modified_data_45plex_cd14_induced_002.xlsx'\n",
    ")\n",
    "\n",
    "# Filter and create feature labels\n",
    "rawdata = rawdata[rawdata['condition'].isin(['unstim','cd3','bugs'])]\n",
    "rawdata = rawdata[rawdata['cell_type'].isin(['CD14+','CD14-'])]\n",
    "rawdata = rawdata[~rawdata['sample_id'].isin(['MOD82','SLG82','JHW88'])]\n",
    "rawdata['sample_type'] = rawdata['condition'] + rawdata['cell_type']\n",
    "rawdata.reset_index(drop=True, inplace=True)\n",
    "\n",
    "sample_columns = ['sample_id', 'cell_type', 'condition', 'sample_type']\n",
    "feature_columns = [col for col in rawdata.columns if col not in sample_columns]\n",
    "\n",
    "rawdata.head()"
   ]
  },
  {
   "cell_type": "code",
   "execution_count": null,
   "metadata": {},
   "outputs": [],
   "source": [
    "selected_features = luminex.functions.select_features(\n",
    "    rawdata,\n",
    "    sample_columns,\n",
    "    feature_columns\n",
    ")\n",
    "to_drop = ['CD 40Lig','Eotaxin','FGF basic','flt-3 Lig','PDGF-AA','PD-L1','IFN-alpha']\n",
    "selected_features = [name for name in selected_features if name not in to_drop]\n",
    "\n",
    "data = rawdata[sample_columns+selected_features]\n",
    "averaged_data = luminex.functions.fill_with_averages(data)\n",
    "trans_data = luminex.functions.transform(averaged_data)"
   ]
  },
  {
   "cell_type": "markdown",
   "metadata": {},
   "source": [
    "## Circles & Barchart unstim CD14+/-"
   ]
  },
  {
   "cell_type": "code",
   "execution_count": null,
   "metadata": {},
   "outputs": [],
   "source": [
    "sample_types = ['unstimCD14-','unstimCD14+']\n",
    "\n",
    "fig, ax = create_fig_ax(17, 5.08)\n",
    "luminex.functions.my_barplot(data, colourmap, sample_types, ax, order=sample_types)\n",
    "matplotlib.pyplot.savefig('figures/unstim_barplot_laura_{}.eps'.format(version))"
   ]
  },
  {
   "cell_type": "code",
   "execution_count": null,
   "metadata": {},
   "outputs": [],
   "source": [
    "sample_types = ['unstimCD14-','unstimCD14+']\n",
    "\n",
    "fig, ax = create_fig_ax(17, 5.08)\n",
    "luminex.functions.plot_expression_circles(\n",
    "    df=data,\n",
    "    columns=selected_features,\n",
    "    labels=sample_types,\n",
    "    ax=ax,\n",
    "    colourmap=colourmap\n",
    ")\n",
    "matplotlib.pyplot.savefig('figures/unstim_circles_laura_{}.eps'.format(version))"
   ]
  },
  {
   "cell_type": "markdown",
   "metadata": {},
   "source": [
    "## Circles & Barchart unstim CD14+/- and CD3 CD14+/-"
   ]
  },
  {
   "cell_type": "code",
   "execution_count": null,
   "metadata": {},
   "outputs": [],
   "source": [
    "sample_types = ['unstimCD14-','unstimCD14+','cd3CD14-','cd3CD14+']\n",
    "\n",
    "fig, ax = create_fig_ax(17, 5.08)\n",
    "luminex.functions.my_barplot(data, colourmap, sample_types, ax, order=sample_types)\n",
    "matplotlib.pyplot.savefig('figures/unstim_cd3_barplot_laura_{}.eps'.format(version))"
   ]
  },
  {
   "cell_type": "code",
   "execution_count": null,
   "metadata": {},
   "outputs": [],
   "source": [
    "sample_types = ['unstimCD14+','unstimCD14-','cd3CD14+','cd3CD14-']\n",
    "\n",
    "fig, ax = create_fig_ax(17, 5.08)\n",
    "luminex.functions.plot_expression_circles(\n",
    "    df=data,\n",
    "    columns=selected_features,\n",
    "    labels=sample_types,\n",
    "    ax=ax,\n",
    "    colourmap=colourmap\n",
    ")\n",
    "matplotlib.pyplot.show()\n",
    "matplotlib.pyplot.savefig('figures/unstim_cd3_circles_laura_{}.eps'.format(version))"
   ]
  },
  {
   "cell_type": "markdown",
   "metadata": {},
   "source": [
    "## Heatmap Showing unstim and CD3 CD14+/-"
   ]
  },
  {
   "cell_type": "code",
   "execution_count": null,
   "metadata": {},
   "outputs": [],
   "source": [
    "sample_types = ['unstimCD14-','cd3CD14-','unstimCD14+','cd3CD14+']\n",
    "\n",
    "g = luminex.functions.plot_cluster_map(trans_data, sample_types, colourmap)\n",
    "g.savefig('figures/unstim_cd3_heatmap_laura_{}.eps'.format(version))"
   ]
  },
  {
   "cell_type": "markdown",
   "metadata": {},
   "source": [
    "## Heatmap Showing unstim, bugs CD3 CD14+/-"
   ]
  },
  {
   "cell_type": "code",
   "execution_count": null,
   "metadata": {},
   "outputs": [],
   "source": [
    "sample_types = ['unstimCD14-','cd3CD14-','bugsCD14-','unstimCD14+','cd3CD14+','bugsCD14+']\n",
    "\n",
    "g = luminex.functions.plot_cluster_map(trans_data, sample_types, colourmap)\n",
    "g.savefig('figures/unstim_bugs_cd3_heatmap_laura_{}.eps'.format(version))"
   ]
  },
  {
   "cell_type": "markdown",
   "metadata": {},
   "source": [
    "## Heatmap showing CD14- unstim, bugs, CD3"
   ]
  },
  {
   "cell_type": "code",
   "execution_count": null,
   "metadata": {},
   "outputs": [],
   "source": [
    "sample_types = ['unstimCD14-','bugsCD14-','cd3CD14-']\n",
    "\n",
    "g = luminex.functions.plot_cluster_map(trans_data, sample_types, colourmap)\n",
    "g.savefig('figures/unstim_bugs_cd3_cd14neg_heatmap_laura_{}.eps'.format(version))"
   ]
  },
  {
   "cell_type": "code",
   "execution_count": null,
   "metadata": {},
   "outputs": [],
   "source": [
    "sample_types = ['unstimCD14+','bugsCD14+','cd3CD14+']\n",
    "\n",
    "g = luminex.functions.plot_cluster_map(trans_data, sample_types, colourmap)\n",
    "g.savefig('figures/unstim_bugs_cd3_cd14pos_heatmap_laura_{}.eps'.format(version))"
   ]
  },
  {
   "cell_type": "markdown",
   "metadata": {},
   "source": [
    "## UMAP"
   ]
  },
  {
   "cell_type": "code",
   "execution_count": null,
   "metadata": {},
   "outputs": [],
   "source": [
    "fig, ax = create_fig_ax(5.08, 5.08)\n",
    "luminex.functions.plot_umap(trans_data, ax, colourmap)\n",
    "matplotlib.pyplot.savefig('figures/umap_laura_{}.eps'.format(version))"
   ]
  },
  {
   "cell_type": "code",
   "execution_count": null,
   "metadata": {},
   "outputs": [],
   "source": [
    "cd14neg_trans_data = trans_data[trans_data['cell_type']=='CD14-'].copy()\n",
    "\n",
    "fig, ax = create_fig_ax(5.08, 5.08)\n",
    "luminex.functions.plot_umap(cd14neg_trans_data, ax, colourmap)\n",
    "matplotlib.pyplot.savefig('figures/umap_cd14neg_laura_{}.eps'.format(version))"
   ]
  },
  {
   "cell_type": "code",
   "execution_count": null,
   "metadata": {},
   "outputs": [],
   "source": [
    "cd14pos_trans_data = trans_data[trans_data['cell_type']=='CD14+'].copy()\n",
    "\n",
    "fig, ax = create_fig_ax(5.08, 5.08)\n",
    "luminex.functions.plot_umap(cd14pos_trans_data, ax, colourmap)\n",
    "matplotlib.pyplot.savefig('figures/umap_cd14pos_laura_{}.eps'.format(version))"
   ]
  },
  {
   "cell_type": "markdown",
   "metadata": {},
   "source": [
    "## Circles bugs CD14- vs CD14+"
   ]
  },
  {
   "cell_type": "code",
   "execution_count": null,
   "metadata": {},
   "outputs": [],
   "source": [
    "sample_types = ['bugsCD14-','bugsCD14+']\n",
    "\n",
    "fig, ax = create_fig_ax(17, 5.08)\n",
    "luminex.functions.plot_expression_circles(\n",
    "    df=data,\n",
    "    columns=selected_features,\n",
    "    labels=sample_types,\n",
    "    ax=ax,\n",
    "    colourmap=colourmap\n",
    ")\n",
    "matplotlib.pyplot.savefig('figures/bugs_circles_laura_{}.eps'.format(version))"
   ]
  },
  {
   "cell_type": "markdown",
   "metadata": {},
   "source": [
    "## Circles cd3 CD14- vs CD14+"
   ]
  },
  {
   "cell_type": "code",
   "execution_count": null,
   "metadata": {},
   "outputs": [],
   "source": [
    "sample_types = ['cd3CD14-','cd3CD14+']\n",
    "\n",
    "fig, ax = create_fig_ax(17, 5.08)\n",
    "luminex.functions.plot_expression_circles(\n",
    "    df=data,\n",
    "    columns=selected_features,\n",
    "    labels=sample_types,\n",
    "    ax=ax,\n",
    "    colourmap=colourmap\n",
    ")\n",
    "matplotlib.pyplot.savefig('figures/cd3_circles_laura_{}.eps'.format(version))"
   ]
  },
  {
   "cell_type": "code",
   "execution_count": null,
   "metadata": {},
   "outputs": [],
   "source": []
  }
 ],
 "metadata": {
  "kernelspec": {
   "display_name": "Python 3",
   "language": "python",
   "name": "python3"
  },
  "language_info": {
   "codemirror_mode": {
    "name": "ipython",
    "version": 3
   },
   "file_extension": ".py",
   "mimetype": "text/x-python",
   "name": "python",
   "nbconvert_exporter": "python",
   "pygments_lexer": "ipython3",
   "version": "3.7.0"
  }
 },
 "nbformat": 4,
 "nbformat_minor": 4
}
